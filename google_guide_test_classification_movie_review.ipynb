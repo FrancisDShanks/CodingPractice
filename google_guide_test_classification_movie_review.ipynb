{
  "nbformat": 4,
  "nbformat_minor": 0,
  "metadata": {
    "colab": {
      "name": "google_guide_test_classification_movie_review.ipynb",
      "version": "0.3.2",
      "provenance": [],
      "toc_visible": true,
      "include_colab_link": true
    },
    "kernelspec": {
      "name": "python3",
      "display_name": "Python 3"
    }
  },
  "cells": [
    {
      "cell_type": "markdown",
      "metadata": {
        "id": "view-in-github",
        "colab_type": "text"
      },
      "source": [
        "[View in Colaboratory](https://colab.research.google.com/github/dxftctcdtc/CodingPractice/blob/master/google_guide_test_classification_movie_review.ipynb)"
      ]
    },
    {
      "metadata": {
        "id": "4_mzaizCuJPM",
        "colab_type": "code",
        "colab": {}
      },
      "cell_type": "code",
      "source": [
        "import tensorflow as tf\n",
        "from tensorflow import keras\n",
        "\n",
        "import numpy as np"
      ],
      "execution_count": 0,
      "outputs": []
    },
    {
      "metadata": {
        "id": "ITDxhO7Pu22a",
        "colab_type": "text"
      },
      "cell_type": "markdown",
      "source": [
        "## load data"
      ]
    },
    {
      "metadata": {
        "id": "QAxL5Jfzu4dN",
        "colab_type": "code",
        "colab": {
          "base_uri": "https://localhost:8080/",
          "height": 53
        },
        "outputId": "32a2e2b2-0031-4f90-d641-efc26559e309"
      },
      "cell_type": "code",
      "source": [
        "imdb = keras.datasets.imdb\n",
        "(train_data, train_labels), (test_data, test_labels) = imdb.load_data(num_words=10000)"
      ],
      "execution_count": 2,
      "outputs": [
        {
          "output_type": "stream",
          "text": [
            "Downloading data from https://storage.googleapis.com/tensorflow/tf-keras-datasets/imdb.npz\n",
            "17465344/17464789 [==============================] - 0s 0us/step\n"
          ],
          "name": "stdout"
        }
      ]
    },
    {
      "metadata": {
        "id": "kU0Lmib1voMl",
        "colab_type": "code",
        "colab": {
          "base_uri": "https://localhost:8080/",
          "height": 35
        },
        "outputId": "7bf4d3ef-6f2e-4808-c446-055b0f616db2"
      },
      "cell_type": "code",
      "source": [
        "print(\"Training entries: {}, labels: {}\".format(len(train_data), len(train_labels)))"
      ],
      "execution_count": 3,
      "outputs": [
        {
          "output_type": "stream",
          "text": [
            "Training entries: 25000, labels: 25000\n"
          ],
          "name": "stdout"
        }
      ]
    },
    {
      "metadata": {
        "id": "5O9GT7qxvKbm",
        "colab_type": "code",
        "colab": {
          "base_uri": "https://localhost:8080/",
          "height": 55
        },
        "outputId": "19dc69d9-47f0-4a0d-a678-9601d218504b"
      },
      "cell_type": "code",
      "source": [
        "print(train_data[0])"
      ],
      "execution_count": 4,
      "outputs": [
        {
          "output_type": "stream",
          "text": [
            "[1, 14, 22, 16, 43, 530, 973, 1622, 1385, 65, 458, 4468, 66, 3941, 4, 173, 36, 256, 5, 25, 100, 43, 838, 112, 50, 670, 2, 9, 35, 480, 284, 5, 150, 4, 172, 112, 167, 2, 336, 385, 39, 4, 172, 4536, 1111, 17, 546, 38, 13, 447, 4, 192, 50, 16, 6, 147, 2025, 19, 14, 22, 4, 1920, 4613, 469, 4, 22, 71, 87, 12, 16, 43, 530, 38, 76, 15, 13, 1247, 4, 22, 17, 515, 17, 12, 16, 626, 18, 2, 5, 62, 386, 12, 8, 316, 8, 106, 5, 4, 2223, 5244, 16, 480, 66, 3785, 33, 4, 130, 12, 16, 38, 619, 5, 25, 124, 51, 36, 135, 48, 25, 1415, 33, 6, 22, 12, 215, 28, 77, 52, 5, 14, 407, 16, 82, 2, 8, 4, 107, 117, 5952, 15, 256, 4, 2, 7, 3766, 5, 723, 36, 71, 43, 530, 476, 26, 400, 317, 46, 7, 4, 2, 1029, 13, 104, 88, 4, 381, 15, 297, 98, 32, 2071, 56, 26, 141, 6, 194, 7486, 18, 4, 226, 22, 21, 134, 476, 26, 480, 5, 144, 30, 5535, 18, 51, 36, 28, 224, 92, 25, 104, 4, 226, 65, 16, 38, 1334, 88, 12, 16, 283, 5, 16, 4472, 113, 103, 32, 15, 16, 5345, 19, 178, 32]\n"
          ],
          "name": "stdout"
        }
      ]
    },
    {
      "metadata": {
        "id": "HcK-9GMYv5jG",
        "colab_type": "code",
        "colab": {
          "base_uri": "https://localhost:8080/",
          "height": 35
        },
        "outputId": "01590a64-6f0f-48c1-ebb8-21d6c84ce99d"
      },
      "cell_type": "code",
      "source": [
        "len(train_data[0]), len(train_data[1])"
      ],
      "execution_count": 5,
      "outputs": [
        {
          "output_type": "execute_result",
          "data": {
            "text/plain": [
              "(218, 189)"
            ]
          },
          "metadata": {
            "tags": []
          },
          "execution_count": 5
        }
      ]
    },
    {
      "metadata": {
        "id": "48r-fLcruQEO",
        "colab_type": "code",
        "colab": {
          "base_uri": "https://localhost:8080/",
          "height": 53
        },
        "outputId": "1d36f191-513f-429d-b2ad-f7bfada7588e"
      },
      "cell_type": "code",
      "source": [
        "# A dictionary mapping words to an integer index\n",
        "word_index = imdb.get_word_index()\n",
        "\n",
        "# The first indices are reserved\n",
        "word_index = {k:(v+3) for k,v in word_index.items()} \n",
        "word_index[\"<PAD>\"] = 0\n",
        "word_index[\"<START>\"] = 1\n",
        "word_index[\"<UNK>\"] = 2  # unknown\n",
        "word_index[\"<UNUSED>\"] = 3\n",
        "\n",
        "reverse_word_index = dict([(value, key) for (key, value) in word_index.items()])\n",
        "\n",
        "def decode_review(text):\n",
        "    return ' '.join([reverse_word_index.get(i, '?') for i in text])"
      ],
      "execution_count": 6,
      "outputs": [
        {
          "output_type": "stream",
          "text": [
            "Downloading data from https://storage.googleapis.com/tensorflow/tf-keras-datasets/imdb_word_index.json\n",
            "1646592/1641221 [==============================] - 0s 0us/step\n"
          ],
          "name": "stdout"
        }
      ]
    },
    {
      "metadata": {
        "id": "S09N-1IC3c2d",
        "colab_type": "code",
        "colab": {
          "base_uri": "https://localhost:8080/",
          "height": 55
        },
        "outputId": "ea271db4-b4c0-4cbf-9e7b-a2e762fa6029"
      },
      "cell_type": "code",
      "source": [
        "decode_review(train_data[0])"
      ],
      "execution_count": 7,
      "outputs": [
        {
          "output_type": "execute_result",
          "data": {
            "text/plain": [
              "\"<START> this film was just brilliant casting location scenery story direction everyone's really suited the part they played and you could just imagine being there robert <UNK> is an amazing actor and now the same being director <UNK> father came from the same scottish island as myself so i loved the fact there was a real connection with this film the witty remarks throughout the film were great it was just brilliant so much that i bought the film as soon as it was released for <UNK> and would recommend it to everyone to watch and the fly fishing was amazing really cried at the end it was so sad and you know what they say if you cry at a film it must have been good and this definitely was also <UNK> to the two little boy's that played the <UNK> of norman and paul they were just brilliant children are often left out of the <UNK> list i think because the stars that play them all grown up are such a big profile for the whole film but these children are amazing and should be praised for what they have done don't you think the whole story was so lovely because it was true and was someone's life after all that was shared with us all\""
            ]
          },
          "metadata": {
            "tags": []
          },
          "execution_count": 7
        }
      ]
    },
    {
      "metadata": {
        "id": "OAdhcVc83qQ7",
        "colab_type": "text"
      },
      "cell_type": "markdown",
      "source": [
        "## prepare data"
      ]
    },
    {
      "metadata": {
        "id": "RVzaKHL53uj2",
        "colab_type": "code",
        "colab": {}
      },
      "cell_type": "code",
      "source": [
        "train_data = keras.preprocessing.sequence.pad_sequences(train_data,\n",
        "                                                       value=word_index[\"<PAD>\"],\n",
        "                                                       padding='post',\n",
        "                                                       maxlen=256)\n",
        "\n",
        "test_data = keras.preprocessing.sequence.pad_sequences(test_data,\n",
        "                                                       value=word_index[\"<PAD>\"],\n",
        "                                                       padding='post',\n",
        "                                                       maxlen=256)"
      ],
      "execution_count": 0,
      "outputs": []
    },
    {
      "metadata": {
        "id": "amVGDwHM4kxX",
        "colab_type": "code",
        "colab": {
          "base_uri": "https://localhost:8080/",
          "height": 35
        },
        "outputId": "a5f70c8c-7a0f-431a-e704-95de7556366b"
      },
      "cell_type": "code",
      "source": [
        "len(train_data[0]), len(test_data[1])"
      ],
      "execution_count": 9,
      "outputs": [
        {
          "output_type": "execute_result",
          "data": {
            "text/plain": [
              "(256, 256)"
            ]
          },
          "metadata": {
            "tags": []
          },
          "execution_count": 9
        }
      ]
    },
    {
      "metadata": {
        "id": "nOBUcshe4yFp",
        "colab_type": "text"
      },
      "cell_type": "markdown",
      "source": [
        "## build the model"
      ]
    },
    {
      "metadata": {
        "id": "dhjlim-B4z5F",
        "colab_type": "code",
        "colab": {
          "base_uri": "https://localhost:8080/",
          "height": 287
        },
        "outputId": "4374f6ac-52f3-4a24-b72a-dcc822fa052f"
      },
      "cell_type": "code",
      "source": [
        "vocab_size = 10000\n",
        "\n",
        "model = keras.Sequential()\n",
        "\n",
        "# Embedding layer. This layer takes the integer-encoded vocabulary and looks up the embedding vector for each word-index. \n",
        "# These vectors are learned as the model trains. The vectors add a dimension to the output array. The resulting dimensions are: (batch, sequence, embedding).\n",
        "model.add(keras.layers.Embedding(vocab_size, 16))\n",
        "\n",
        "# a GlobalAveragePooling1D layer returns a fixed-length output vector for each example by averaging over the sequence dimension.\n",
        "model.add(keras.layers.GlobalAveragePooling1D())\n",
        "model.add(keras.layers.Dense(16, activation=tf.nn.relu))\n",
        "model.add(keras.layers.Dense(1, activation=tf.nn.sigmoid))\n",
        "\n",
        "model.summary()"
      ],
      "execution_count": 10,
      "outputs": [
        {
          "output_type": "stream",
          "text": [
            "_________________________________________________________________\n",
            "Layer (type)                 Output Shape              Param #   \n",
            "=================================================================\n",
            "embedding (Embedding)        (None, None, 16)          160000    \n",
            "_________________________________________________________________\n",
            "global_average_pooling1d (Gl (None, 16)                0         \n",
            "_________________________________________________________________\n",
            "dense (Dense)                (None, 16)                272       \n",
            "_________________________________________________________________\n",
            "dense_1 (Dense)              (None, 1)                 17        \n",
            "=================================================================\n",
            "Total params: 160,289\n",
            "Trainable params: 160,289\n",
            "Non-trainable params: 0\n",
            "_________________________________________________________________\n"
          ],
          "name": "stdout"
        }
      ]
    },
    {
      "metadata": {
        "id": "IbHVdIi46Tn3",
        "colab_type": "code",
        "colab": {}
      },
      "cell_type": "code",
      "source": [
        "model.compile(optimizer=tf.train.AdamOptimizer(),\n",
        "             loss='binary_crossentropy',\n",
        "             metrics=['accuracy'])"
      ],
      "execution_count": 0,
      "outputs": []
    },
    {
      "metadata": {
        "id": "8IKxjb5fxbVS",
        "colab_type": "code",
        "colab": {}
      },
      "cell_type": "code",
      "source": [
        "# create a validation set\n",
        "x_val = train_data[:10000]\n",
        "partial_x_train = train_data[10000:]\n",
        "\n",
        "y_val = train_labels[:10000]\n",
        "partial_y_train = train_labels[10000:]"
      ],
      "execution_count": 0,
      "outputs": []
    },
    {
      "metadata": {
        "id": "NIeasw68xzFi",
        "colab_type": "code",
        "colab": {
          "base_uri": "https://localhost:8080/",
          "height": 1475
        },
        "outputId": "d277a8f3-9f30-4b71-c3be-c014b6713324"
      },
      "cell_type": "code",
      "source": [
        "history = model.fit(partial_x_train,\n",
        "                   partial_y_train,\n",
        "                   batch_size=512,\n",
        "                   epochs=40,\n",
        "                   validation_data=(x_val,y_val),\n",
        "                   verbose=1)"
      ],
      "execution_count": 14,
      "outputs": [
        {
          "output_type": "stream",
          "text": [
            "Train on 15000 samples, validate on 10000 samples\n",
            "Epoch 1/40\n",
            "15000/15000 [==============================] - 1s 67us/step - loss: 0.7098 - acc: 0.4965 - val_loss: 0.6939 - val_acc: 0.5053\n",
            "Epoch 2/40\n",
            "15000/15000 [==============================] - 1s 57us/step - loss: 0.6927 - acc: 0.5067 - val_loss: 0.6918 - val_acc: 0.5132\n",
            "Epoch 3/40\n",
            "15000/15000 [==============================] - 1s 61us/step - loss: 0.6910 - acc: 0.5233 - val_loss: 0.6908 - val_acc: 0.5225\n",
            "Epoch 4/40\n",
            "15000/15000 [==============================] - 1s 61us/step - loss: 0.6898 - acc: 0.5469 - val_loss: 0.6896 - val_acc: 0.5446\n",
            "Epoch 5/40\n",
            "15000/15000 [==============================] - 1s 60us/step - loss: 0.6884 - acc: 0.5700 - val_loss: 0.6883 - val_acc: 0.5650\n",
            "Epoch 6/40\n",
            "15000/15000 [==============================] - 1s 62us/step - loss: 0.6867 - acc: 0.6101 - val_loss: 0.6862 - val_acc: 0.6258\n",
            "Epoch 7/40\n",
            "15000/15000 [==============================] - 1s 60us/step - loss: 0.6843 - acc: 0.6849 - val_loss: 0.6839 - val_acc: 0.6697\n",
            "Epoch 8/40\n",
            "15000/15000 [==============================] - 1s 60us/step - loss: 0.6812 - acc: 0.7103 - val_loss: 0.6802 - val_acc: 0.7098\n",
            "Epoch 9/40\n",
            "15000/15000 [==============================] - 1s 60us/step - loss: 0.6765 - acc: 0.7417 - val_loss: 0.6751 - val_acc: 0.7340\n",
            "Epoch 10/40\n",
            "15000/15000 [==============================] - 1s 61us/step - loss: 0.6698 - acc: 0.7544 - val_loss: 0.6677 - val_acc: 0.7458\n",
            "Epoch 11/40\n",
            "15000/15000 [==============================] - 1s 58us/step - loss: 0.6607 - acc: 0.7428 - val_loss: 0.6575 - val_acc: 0.7600\n",
            "Epoch 12/40\n",
            "15000/15000 [==============================] - 1s 59us/step - loss: 0.6472 - acc: 0.7819 - val_loss: 0.6435 - val_acc: 0.7676\n",
            "Epoch 13/40\n",
            "15000/15000 [==============================] - 1s 61us/step - loss: 0.6297 - acc: 0.7829 - val_loss: 0.6266 - val_acc: 0.7721\n",
            "Epoch 14/40\n",
            "15000/15000 [==============================] - 1s 59us/step - loss: 0.6081 - acc: 0.7914 - val_loss: 0.6045 - val_acc: 0.7832\n",
            "Epoch 15/40\n",
            "15000/15000 [==============================] - 1s 59us/step - loss: 0.5821 - acc: 0.8025 - val_loss: 0.5789 - val_acc: 0.7892\n",
            "Epoch 16/40\n",
            "15000/15000 [==============================] - 1s 61us/step - loss: 0.5539 - acc: 0.8087 - val_loss: 0.5528 - val_acc: 0.7922\n",
            "Epoch 17/40\n",
            "15000/15000 [==============================] - 1s 61us/step - loss: 0.5236 - acc: 0.8214 - val_loss: 0.5260 - val_acc: 0.8081\n",
            "Epoch 18/40\n",
            "15000/15000 [==============================] - 1s 59us/step - loss: 0.4936 - acc: 0.8326 - val_loss: 0.4989 - val_acc: 0.8166\n",
            "Epoch 19/40\n",
            "15000/15000 [==============================] - 1s 62us/step - loss: 0.4644 - acc: 0.8404 - val_loss: 0.4736 - val_acc: 0.8251\n",
            "Epoch 20/40\n",
            "15000/15000 [==============================] - 1s 62us/step - loss: 0.4371 - acc: 0.8511 - val_loss: 0.4504 - val_acc: 0.8327\n",
            "Epoch 21/40\n",
            "15000/15000 [==============================] - 1s 61us/step - loss: 0.4114 - acc: 0.8592 - val_loss: 0.4291 - val_acc: 0.8422\n",
            "Epoch 22/40\n",
            "15000/15000 [==============================] - 1s 60us/step - loss: 0.3885 - acc: 0.8680 - val_loss: 0.4105 - val_acc: 0.8476\n",
            "Epoch 23/40\n",
            "15000/15000 [==============================] - 1s 62us/step - loss: 0.3682 - acc: 0.8731 - val_loss: 0.3944 - val_acc: 0.8522\n",
            "Epoch 24/40\n",
            "15000/15000 [==============================] - 1s 60us/step - loss: 0.3497 - acc: 0.8789 - val_loss: 0.3803 - val_acc: 0.8561\n",
            "Epoch 25/40\n",
            "15000/15000 [==============================] - 1s 59us/step - loss: 0.3337 - acc: 0.8843 - val_loss: 0.3683 - val_acc: 0.8591\n",
            "Epoch 26/40\n",
            "15000/15000 [==============================] - 1s 61us/step - loss: 0.3193 - acc: 0.8879 - val_loss: 0.3580 - val_acc: 0.8625\n",
            "Epoch 27/40\n",
            "15000/15000 [==============================] - 1s 62us/step - loss: 0.3066 - acc: 0.8913 - val_loss: 0.3491 - val_acc: 0.8641\n",
            "Epoch 28/40\n",
            "15000/15000 [==============================] - 1s 62us/step - loss: 0.2949 - acc: 0.8959 - val_loss: 0.3411 - val_acc: 0.8670\n",
            "Epoch 29/40\n",
            "15000/15000 [==============================] - 1s 63us/step - loss: 0.2844 - acc: 0.8992 - val_loss: 0.3348 - val_acc: 0.8685\n",
            "Epoch 30/40\n",
            "15000/15000 [==============================] - 1s 62us/step - loss: 0.2758 - acc: 0.9011 - val_loss: 0.3287 - val_acc: 0.8691\n",
            "Epoch 31/40\n",
            "15000/15000 [==============================] - 1s 60us/step - loss: 0.2662 - acc: 0.9051 - val_loss: 0.3237 - val_acc: 0.8727\n",
            "Epoch 32/40\n",
            "15000/15000 [==============================] - 1s 63us/step - loss: 0.2587 - acc: 0.9072 - val_loss: 0.3192 - val_acc: 0.8722\n",
            "Epoch 33/40\n",
            "15000/15000 [==============================] - 1s 62us/step - loss: 0.2505 - acc: 0.9111 - val_loss: 0.3154 - val_acc: 0.8739\n",
            "Epoch 34/40\n",
            "15000/15000 [==============================] - 1s 60us/step - loss: 0.2435 - acc: 0.9136 - val_loss: 0.3117 - val_acc: 0.8745\n",
            "Epoch 35/40\n",
            "15000/15000 [==============================] - 1s 59us/step - loss: 0.2373 - acc: 0.9151 - val_loss: 0.3085 - val_acc: 0.8751\n",
            "Epoch 36/40\n",
            "15000/15000 [==============================] - 1s 60us/step - loss: 0.2304 - acc: 0.9177 - val_loss: 0.3060 - val_acc: 0.8771\n",
            "Epoch 37/40\n",
            "15000/15000 [==============================] - 1s 60us/step - loss: 0.2245 - acc: 0.9197 - val_loss: 0.3038 - val_acc: 0.8776\n",
            "Epoch 38/40\n",
            "15000/15000 [==============================] - 1s 60us/step - loss: 0.2188 - acc: 0.9209 - val_loss: 0.3009 - val_acc: 0.8788\n",
            "Epoch 39/40\n",
            "15000/15000 [==============================] - 1s 61us/step - loss: 0.2131 - acc: 0.9245 - val_loss: 0.2991 - val_acc: 0.8793\n",
            "Epoch 40/40\n",
            "15000/15000 [==============================] - 1s 61us/step - loss: 0.2079 - acc: 0.9260 - val_loss: 0.2971 - val_acc: 0.8789\n"
          ],
          "name": "stdout"
        }
      ]
    },
    {
      "metadata": {
        "id": "r6OUiXcIyyQk",
        "colab_type": "text"
      },
      "cell_type": "markdown",
      "source": [
        "## evaluate the model"
      ]
    },
    {
      "metadata": {
        "id": "EH_ZzIbCy1D6",
        "colab_type": "code",
        "colab": {
          "base_uri": "https://localhost:8080/",
          "height": 53
        },
        "outputId": "c76c1f85-6f2a-474f-d0dd-5d486d4509ce"
      },
      "cell_type": "code",
      "source": [
        "results = model.evaluate(test_data, test_labels)\n",
        "print(results)"
      ],
      "execution_count": 15,
      "outputs": [
        {
          "output_type": "stream",
          "text": [
            "25000/25000 [==============================] - 1s 30us/step\n",
            "[0.31113085642814636, 0.87192]\n"
          ],
          "name": "stdout"
        }
      ]
    },
    {
      "metadata": {
        "id": "AqIq__ldy-cL",
        "colab_type": "code",
        "colab": {
          "base_uri": "https://localhost:8080/",
          "height": 35
        },
        "outputId": "078d00a6-f86a-4725-a20e-01bddec468c6"
      },
      "cell_type": "code",
      "source": [
        "history_dict = history.history\n",
        "history_dict.keys()"
      ],
      "execution_count": 16,
      "outputs": [
        {
          "output_type": "execute_result",
          "data": {
            "text/plain": [
              "dict_keys(['val_loss', 'val_acc', 'loss', 'acc'])"
            ]
          },
          "metadata": {
            "tags": []
          },
          "execution_count": 16
        }
      ]
    },
    {
      "metadata": {
        "id": "sHep7QXCzRXp",
        "colab_type": "code",
        "colab": {
          "base_uri": "https://localhost:8080/",
          "height": 376
        },
        "outputId": "6d7bcac3-c30c-4c18-e060-062afbb50878"
      },
      "cell_type": "code",
      "source": [
        "import matplotlib.pyplot as plt\n",
        "\n",
        "acc = history.history['acc']\n",
        "val_acc = history.history['val_acc']\n",
        "loss = history.history['loss']\n",
        "val_loss = history.history['val_loss']\n",
        "\n",
        "epochs = range(1, len(acc) + 1)\n",
        "\n",
        "# \"bo\" is for \"blue dot\"\n",
        "plt.plot(epochs, loss, 'bo', label='Training loss')\n",
        "# b is for \"solid blue line\"\n",
        "plt.plot(epochs, val_loss, 'b', label='Validation loss')\n",
        "plt.title('Training and validation loss')\n",
        "plt.xlabel('Epochs')\n",
        "plt.ylabel('Loss')\n",
        "plt.legend()\n",
        "\n",
        "plt.show()"
      ],
      "execution_count": 18,
      "outputs": [
        {
          "output_type": "display_data",
          "data": {
            "image/png": "[encoded data removed]",
            "text/plain": [
              "<matplotlib.figure.Figure at 0x7f662aeff668>"
            ]
          },
          "metadata": {
            "tags": []
          }
        }
      ]
    },
    {
      "metadata": {
        "id": "kZBVzgP765NS",
        "colab_type": "code",
        "colab": {
          "base_uri": "https://localhost:8080/",
          "height": 376
        },
        "outputId": "6a2ec48f-7067-4953-a63f-432db36fca77"
      },
      "cell_type": "code",
      "source": [
        "plt.clf()   # clear figure\n",
        "acc_values = history_dict['acc']\n",
        "val_acc_values = history_dict['val_acc']\n",
        "\n",
        "plt.plot(epochs, acc, 'bo', label='Training acc')\n",
        "plt.plot(epochs, val_acc, 'b', label='Validation acc')\n",
        "plt.title('Training and validation accuracy')\n",
        "plt.xlabel('Epochs')\n",
        "plt.ylabel('Accuracy')\n",
        "plt.legend()\n",
        "\n",
        "plt.show()"
      ],
      "execution_count": 19,
      "outputs": [
        {
          "output_type": "display_data",
          "data": {
            "image/png": "[encoded data removed]",
            "text/plain": [
              "<matplotlib.figure.Figure at 0x7f662d68a278>"
            ]
          },
          "metadata": {
            "tags": []
          }
        }
      ]
    },
    {
      "metadata": {
        "id": "V2bDBr1r6Qw_",
        "colab_type": "code",
        "colab": {
          "base_uri": "https://localhost:8080/",
          "height": 35
        },
        "outputId": "cf716d96-839c-4d68-de39-a1adbb45f9cb"
      },
      "cell_type": "code",
      "source": [
        ""
      ],
      "execution_count": 20,
      "outputs": [
        {
          "output_type": "stream",
          "text": [
            "8\n"
          ],
          "name": "stdout"
        }
      ]
    },
    {
      "metadata": {
        "id": "wN6qexRD6C_n",
        "colab_type": "code",
        "colab": {}
      },
      "cell_type": "code",
      "source": [
        ""
      ],
      "execution_count": 0,
      "outputs": []
    },
    {
      "metadata": {
        "id": "VqzdaCFL55wn",
        "colab_type": "code",
        "colab": {}
      },
      "cell_type": "code",
      "source": [
        ""
      ],
      "execution_count": 0,
      "outputs": []
    },
    {
      "metadata": {
        "id": "WQIKflZx4sDe",
        "colab_type": "code",
        "colab": {}
      },
      "cell_type": "code",
      "source": [
        ""
      ],
      "execution_count": 0,
      "outputs": []
    },
    {
      "metadata": {
        "id": "ngRK0VYYuQHO",
        "colab_type": "code",
        "colab": {}
      },
      "cell_type": "code",
      "source": [
        ""
      ],
      "execution_count": 0,
      "outputs": []
    },
    {
      "metadata": {
        "id": "W4LdCEN8uQKh",
        "colab_type": "code",
        "colab": {}
      },
      "cell_type": "code",
      "source": [
        ""
      ],
      "execution_count": 0,
      "outputs": []
    },
    {
      "metadata": {
        "id": "xb4O1kJDuQNh",
        "colab_type": "code",
        "colab": {}
      },
      "cell_type": "code",
      "source": [
        ""
      ],
      "execution_count": 0,
      "outputs": []
    },
    {
      "metadata": {
        "id": "oixyZsrouQQd",
        "colab_type": "code",
        "colab": {}
      },
      "cell_type": "code",
      "source": [
        ""
      ],
      "execution_count": 0,
      "outputs": []
    },
    {
      "metadata": {
        "id": "ZDYtw_LpuQTW",
        "colab_type": "code",
        "colab": {}
      },
      "cell_type": "code",
      "source": [
        ""
      ],
      "execution_count": 0,
      "outputs": []
    },
    {
      "metadata": {
        "id": "2Jn0ixGhuQWQ",
        "colab_type": "code",
        "colab": {}
      },
      "cell_type": "code",
      "source": [
        ""
      ],
      "execution_count": 0,
      "outputs": []
    },
    {
      "metadata": {
        "id": "Z6bN90FluQZN",
        "colab_type": "code",
        "colab": {}
      },
      "cell_type": "code",
      "source": [
        ""
      ],
      "execution_count": 0,
      "outputs": []
    },
    {
      "metadata": {
        "id": "FIxvL6NfuQcP",
        "colab_type": "code",
        "colab": {}
      },
      "cell_type": "code",
      "source": [
        ""
      ],
      "execution_count": 0,
      "outputs": []
    },
    {
      "metadata": {
        "id": "eEDnNnLbuQfW",
        "colab_type": "code",
        "colab": {}
      },
      "cell_type": "code",
      "source": [
        ""
      ],
      "execution_count": 0,
      "outputs": []
    },
    {
      "metadata": {
        "id": "qFEiYRgRuQig",
        "colab_type": "code",
        "colab": {}
      },
      "cell_type": "code",
      "source": [
        ""
      ],
      "execution_count": 0,
      "outputs": []
    },
    {
      "metadata": {
        "id": "AlouHbltuQlZ",
        "colab_type": "code",
        "colab": {}
      },
      "cell_type": "code",
      "source": [
        ""
      ],
      "execution_count": 0,
      "outputs": []
    },
    {
      "metadata": {
        "id": "OIfh9tzKuQoV",
        "colab_type": "code",
        "colab": {}
      },
      "cell_type": "code",
      "source": [
        ""
      ],
      "execution_count": 0,
      "outputs": []
    },
    {
      "metadata": {
        "id": "KKtffJ8UuQrP",
        "colab_type": "code",
        "colab": {}
      },
      "cell_type": "code",
      "source": [
        ""
      ],
      "execution_count": 0,
      "outputs": []
    },
    {
      "metadata": {
        "id": "ZvJjhPr5uQuO",
        "colab_type": "code",
        "colab": {}
      },
      "cell_type": "code",
      "source": [
        ""
      ],
      "execution_count": 0,
      "outputs": []
    },
    {
      "metadata": {
        "id": "cQjE1Q0quQxN",
        "colab_type": "code",
        "colab": {}
      },
      "cell_type": "code",
      "source": [
        ""
      ],
      "execution_count": 0,
      "outputs": []
    },
    {
      "metadata": {
        "id": "B49nNDr_uQ0Z",
        "colab_type": "code",
        "colab": {}
      },
      "cell_type": "code",
      "source": [
        ""
      ],
      "execution_count": 0,
      "outputs": []
    },
    {
      "metadata": {
        "id": "xapQQCmguQ3H",
        "colab_type": "code",
        "colab": {}
      },
      "cell_type": "code",
      "source": [
        ""
      ],
      "execution_count": 0,
      "outputs": []
    },
    {
      "metadata": {
        "id": "S_O7kt6guQ6B",
        "colab_type": "code",
        "colab": {}
      },
      "cell_type": "code",
      "source": [
        ""
      ],
      "execution_count": 0,
      "outputs": []
    },
    {
      "metadata": {
        "id": "76vhqQ4huQ9I",
        "colab_type": "code",
        "colab": {}
      },
      "cell_type": "code",
      "source": [
        ""
      ],
      "execution_count": 0,
      "outputs": []
    }
  ]
}